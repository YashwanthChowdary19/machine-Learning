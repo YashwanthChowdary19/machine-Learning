{
 "cells": [
  {
   "cell_type": "markdown",
   "id": "c02871ff-5acd-480f-afa0-2b348d06f929",
   "metadata": {},
   "source": [
    "# `EDA` stands for `Exploratory Data Analysis`\n",
    "```bash\n",
    "It’s the process of analyzing and visualizing datasets in order to understand their key characteristics,\n",
    "patterns, and relationships before applying statistical models or machine learning algorithms.\n",
    "```"
   ]
  },
  {
   "cell_type": "markdown",
   "id": "c17682d7-cca1-436d-8eb9-7245c6a5c690",
   "metadata": {},
   "source": [
    "##  `univariate analysis`"
   ]
  },
  {
   "cell_type": "markdown",
   "id": "5de53346-1180-4845-8f36-a5b4c9a0fd53",
   "metadata": {},
   "source": [
    "```bash \n",
    "Univariate Analysis is a `type of Exploratory Data Analysis` (EDA) where we analyze one variable at a time.\n",
    "The goal is to understand the distribution, central tendency, spread, and patterns of that single variable. \n",
    "```"
   ]
  },
  {
   "cell_type": "markdown",
   "id": "979eaeed-483d-43be-b002-63e5ccfd7765",
   "metadata": {},
   "source": [
    "Types of Univariate Analysis:\n",
    "1. For Numerical (Continuous) Data\n",
    "2. For Categorical Data\n"
   ]
  },
  {
   "cell_type": "markdown",
   "id": "f38df6a2-4802-42eb-9073-08876fe1d012",
   "metadata": {},
   "source": [
    "## `for categoical data`"
   ]
  },
  {
   "cell_type": "markdown",
   "id": "6788e0e4-c771-4fb2-87b6-4d704bd01a5f",
   "metadata": {},
   "source": [
    "####  Categorical Data\n",
    "```bash\n",
    "Data that represents categories, labels, or groups.\n",
    "It usually describes qualities rather than quantities.\n",
    "\n",
    "✅ Types:\n",
    "\n",
    "Nominal (no order) → e.g., Gender (Male/Female), City (Bangalore, Delhi, Hyderabad)\n",
    "\n",
    "Ordinal (has order/ranking) → e.g., Education Level (High School < Graduate < Postgraduate), Ratings (Poor < Average < Good < Excellent)\n",
    "```"
   ]
  },
  {
   "cell_type": "code",
   "execution_count": null,
   "id": "b2f0952e-dcd9-4ee3-ae6b-3b409a845bbe",
   "metadata": {},
   "outputs": [],
   "source": [
    "# we will perform analysis on titanic dataset"
   ]
  },
  {
   "cell_type": "code",
   "execution_count": 3,
   "id": "38c865cb-993b-4b58-b226-a10433f299df",
   "metadata": {},
   "outputs": [],
   "source": [
    "import pandas as pd \n",
    "import matplotlib.pyplot as plt \n",
    "import seaborn as sns"
   ]
  },
  {
   "cell_type": "code",
   "execution_count": 4,
   "id": "809680f5-ab39-4005-a34a-2ab8eb380d93",
   "metadata": {},
   "outputs": [],
   "source": [
    "data = pd.read_csv(\"train.csv\")"
   ]
  },
  {
   "cell_type": "code",
   "execution_count": 5,
   "id": "91f2bbd5-3d89-410a-9343-790354b28c6e",
   "metadata": {},
   "outputs": [
    {
     "data": {
      "text/html": [
       "<div>\n",
       "<style scoped>\n",
       "    .dataframe tbody tr th:only-of-type {\n",
       "        vertical-align: middle;\n",
       "    }\n",
       "\n",
       "    .dataframe tbody tr th {\n",
       "        vertical-align: top;\n",
       "    }\n",
       "\n",
       "    .dataframe thead th {\n",
       "        text-align: right;\n",
       "    }\n",
       "</style>\n",
       "<table border=\"1\" class=\"dataframe\">\n",
       "  <thead>\n",
       "    <tr style=\"text-align: right;\">\n",
       "      <th></th>\n",
       "      <th>PassengerId</th>\n",
       "      <th>Survived</th>\n",
       "      <th>Pclass</th>\n",
       "      <th>Name</th>\n",
       "      <th>Sex</th>\n",
       "      <th>Age</th>\n",
       "      <th>SibSp</th>\n",
       "      <th>Parch</th>\n",
       "      <th>Ticket</th>\n",
       "      <th>Fare</th>\n",
       "      <th>Cabin</th>\n",
       "      <th>Embarked</th>\n",
       "    </tr>\n",
       "  </thead>\n",
       "  <tbody>\n",
       "    <tr>\n",
       "      <th>0</th>\n",
       "      <td>1</td>\n",
       "      <td>0</td>\n",
       "      <td>3</td>\n",
       "      <td>Braund, Mr. Owen Harris</td>\n",
       "      <td>male</td>\n",
       "      <td>22.0</td>\n",
       "      <td>1</td>\n",
       "      <td>0</td>\n",
       "      <td>A/5 21171</td>\n",
       "      <td>7.2500</td>\n",
       "      <td>NaN</td>\n",
       "      <td>S</td>\n",
       "    </tr>\n",
       "    <tr>\n",
       "      <th>1</th>\n",
       "      <td>2</td>\n",
       "      <td>1</td>\n",
       "      <td>1</td>\n",
       "      <td>Cumings, Mrs. John Bradley (Florence Briggs Th...</td>\n",
       "      <td>female</td>\n",
       "      <td>38.0</td>\n",
       "      <td>1</td>\n",
       "      <td>0</td>\n",
       "      <td>PC 17599</td>\n",
       "      <td>71.2833</td>\n",
       "      <td>C85</td>\n",
       "      <td>C</td>\n",
       "    </tr>\n",
       "    <tr>\n",
       "      <th>2</th>\n",
       "      <td>3</td>\n",
       "      <td>1</td>\n",
       "      <td>3</td>\n",
       "      <td>Heikkinen, Miss. Laina</td>\n",
       "      <td>female</td>\n",
       "      <td>26.0</td>\n",
       "      <td>0</td>\n",
       "      <td>0</td>\n",
       "      <td>STON/O2. 3101282</td>\n",
       "      <td>7.9250</td>\n",
       "      <td>NaN</td>\n",
       "      <td>S</td>\n",
       "    </tr>\n",
       "    <tr>\n",
       "      <th>3</th>\n",
       "      <td>4</td>\n",
       "      <td>1</td>\n",
       "      <td>1</td>\n",
       "      <td>Futrelle, Mrs. Jacques Heath (Lily May Peel)</td>\n",
       "      <td>female</td>\n",
       "      <td>35.0</td>\n",
       "      <td>1</td>\n",
       "      <td>0</td>\n",
       "      <td>113803</td>\n",
       "      <td>53.1000</td>\n",
       "      <td>C123</td>\n",
       "      <td>S</td>\n",
       "    </tr>\n",
       "    <tr>\n",
       "      <th>4</th>\n",
       "      <td>5</td>\n",
       "      <td>0</td>\n",
       "      <td>3</td>\n",
       "      <td>Allen, Mr. William Henry</td>\n",
       "      <td>male</td>\n",
       "      <td>35.0</td>\n",
       "      <td>0</td>\n",
       "      <td>0</td>\n",
       "      <td>373450</td>\n",
       "      <td>8.0500</td>\n",
       "      <td>NaN</td>\n",
       "      <td>S</td>\n",
       "    </tr>\n",
       "  </tbody>\n",
       "</table>\n",
       "</div>"
      ],
      "text/plain": [
       "   PassengerId  Survived  Pclass  \\\n",
       "0            1         0       3   \n",
       "1            2         1       1   \n",
       "2            3         1       3   \n",
       "3            4         1       1   \n",
       "4            5         0       3   \n",
       "\n",
       "                                                Name     Sex   Age  SibSp  \\\n",
       "0                            Braund, Mr. Owen Harris    male  22.0      1   \n",
       "1  Cumings, Mrs. John Bradley (Florence Briggs Th...  female  38.0      1   \n",
       "2                             Heikkinen, Miss. Laina  female  26.0      0   \n",
       "3       Futrelle, Mrs. Jacques Heath (Lily May Peel)  female  35.0      1   \n",
       "4                           Allen, Mr. William Henry    male  35.0      0   \n",
       "\n",
       "   Parch            Ticket     Fare Cabin Embarked  \n",
       "0      0         A/5 21171   7.2500   NaN        S  \n",
       "1      0          PC 17599  71.2833   C85        C  \n",
       "2      0  STON/O2. 3101282   7.9250   NaN        S  \n",
       "3      0            113803  53.1000  C123        S  \n",
       "4      0            373450   8.0500   NaN        S  "
      ]
     },
     "execution_count": 5,
     "metadata": {},
     "output_type": "execute_result"
    }
   ],
   "source": [
    "data.head()"
   ]
  },
  {
   "cell_type": "markdown",
   "id": "9d5aabc7-fff5-4365-8026-e048da451f33",
   "metadata": {},
   "source": [
    "##### in the above dataset \n",
    "```bash \n",
    "main categorical columns : survived(0/1) ,Pclass(1/2/3), sex(male/female), Embarked(S,C,Q)\n",
    "main numerical columns : Age, Fare \n",
    "```\n",
    "##### note : categorical means not only string values , it includes numerical also like (0/1)"
   ]
  },
  {
   "cell_type": "code",
   "execution_count": 14,
   "id": "322d4463-1844-4fd6-a892-67cf2d068b36",
   "metadata": {},
   "outputs": [
    {
     "name": "stdout",
     "output_type": "stream",
     "text": [
      "[0 1]\n",
      "[3 1 2]\n"
     ]
    }
   ],
   "source": [
    "# Display all unique category values present in the 'Survived' column\n",
    "print(data[\"Survived\"].unique())\n",
    "# Display all unique category values present in the 'Pclass' column\n",
    "print(data[\"Pclass\"].unique())"
   ]
  },
  {
   "cell_type": "markdown",
   "id": "ced95c1e-f8b9-4ec5-afbe-75afeb0c0c99",
   "metadata": {},
   "source": [
    "### `1) countplot on categorical columns`"
   ]
  },
  {
   "cell_type": "code",
   "execution_count": 27,
   "id": "51ff06c7-c273-4d86-8984-40d28bbd09ee",
   "metadata": {},
   "outputs": [
    {
     "data": {
      "text/plain": [
       "<Axes: xlabel='Survived', ylabel='count'>"
      ]
     },
     "execution_count": 27,
     "metadata": {},
     "output_type": "execute_result"
    },
    {
     "data": {
      "image/png": "[encoded data removed]",
      "text/plain": [
       "<Figure size 640x480 with 1 Axes>"
      ]
     },
     "metadata": {},
     "output_type": "display_data"
    }
   ],
   "source": [
    "# univariate analysis on Survived column\n",
    "sns.countplot(x='Survived',data=data,color='yellow')"
   ]
  },
  {
   "cell_type": "code",
   "execution_count": null,
   "id": "ee84f30c-a249-4d58-9b12-e863c9bed178",
   "metadata": {},
   "outputs": [],
   "source": [
    "# by using this i can understand how manys people are survived and not survived these type patterns we can analyze"
   ]
  },
  {
   "cell_type": "code",
   "execution_count": 29,
   "id": "9ee49ba7-30ef-449a-814c-25016558719d",
   "metadata": {},
   "outputs": [
    {
     "data": {
      "text/plain": [
       "Survived\n",
       "0    549\n",
       "1    342\n",
       "Name: count, dtype: int64"
      ]
     },
     "execution_count": 29,
     "metadata": {},
     "output_type": "execute_result"
    }
   ],
   "source": [
    "# and you can get the total number also for each category \n",
    "data[\"Survived\"].value_counts()"
   ]
  },
  {
   "cell_type": "code",
   "execution_count": 35,
   "id": "c4948b6e-72bb-42a6-a45e-2782d73b544b",
   "metadata": {},
   "outputs": [
    {
     "data": {
      "text/plain": [
       "<Axes: xlabel='Pclass', ylabel='count'>"
      ]
     },
     "execution_count": 35,
     "metadata": {},
     "output_type": "execute_result"
    },
    {
     "data": {
      "image/png": "[encoded data removed]",
      "text/plain": [
       "<Figure size 640x480 with 1 Axes>"
      ]
     },
     "metadata": {},
     "output_type": "display_data"
    }
   ],
   "source": [
    "# univariate analysis on Pclass column\n",
    "sns.countplot(x = \"Pclass\",data=data)"
   ]
  },
  {
   "cell_type": "code",
   "execution_count": null,
   "id": "be0461db-1160-41ac-af25-f4abe1b607de",
   "metadata": {},
   "outputs": [],
   "source": [
    "# observe Pclass3 > Pclass1 > Pclass2"
   ]
  },
  {
   "cell_type": "markdown",
   "id": "e2a93a42-4e4f-44cd-afcc-79ae357eae76",
   "metadata": {},
   "source": [
    "### `pie chart on Categorical columns`\n",
    "```bash \n",
    "when you want the results in percentage \n",
    "```"
   ]
  },
  {
   "cell_type": "code",
   "execution_count": 43,
   "id": "459c702e-7c1d-4f41-aefc-a7a80db09491",
   "metadata": {},
   "outputs": [
    {
     "data": {
      "text/plain": [
       "<Axes: ylabel='count'>"
      ]
     },
     "execution_count": 43,
     "metadata": {},
     "output_type": "execute_result"
    },
    {
     "data": {
      "image/png": "[encoded data removed]",
      "text/plain": [
       "<Figure size 640x480 with 1 Axes>"
      ]
     },
     "metadata": {},
     "output_type": "display_data"
    }
   ],
   "source": [
    "data[\"Survived\"].value_counts().plot(kind='pie',autopct='%.2f%%',labels=[\"survived\",\"unsurvived\"])"
   ]
  },
  {
   "cell_type": "code",
   "execution_count": 41,
   "id": "214abb2e-0ee8-49de-9624-79d488e03040",
   "metadata": {},
   "outputs": [],
   "source": [
    "# here you can observe 61.62% people are survived remaining are unsurvived"
   ]
  },
  {
   "cell_type": "markdown",
   "id": "b14a281e-b22b-44cc-abf2-79ece8b8de79",
   "metadata": {},
   "source": [
    "## `for Numerical data`"
   ]
  },
  {
   "cell_type": "markdown",
   "id": "1ea25920-a895-4451-be26-d4a10b295fa5",
   "metadata": {},
   "source": [
    "####  Numerical Data\n",
    "```bash\n",
    "Data that represents numbers (quantities).\n",
    "We can perform mathematical operations (add, subtract, average, etc.) on them.\n",
    "\n",
    "✅ Types:\n",
    "\n",
    "Discrete (countable integers) → e.g., Number of children, Exam marks, Orders placed\n",
    "\n",
    "Continuous (measurable values, decimals possible) → e.g., Height, Weight, Salary, Temperature\n",
    "```"
   ]
  },
  {
   "cell_type": "markdown",
   "id": "4835b56e-cb21-432b-82c5-a147498323c8",
   "metadata": {},
   "source": [
    "### `histplot`"
   ]
  },
  {
   "cell_type": "code",
   "execution_count": 46,
   "id": "a6412f10-1664-475d-b1e1-d99326d77eda",
   "metadata": {},
   "outputs": [
    {
     "data": {
      "text/plain": [
       "<Axes: xlabel='Age', ylabel='Count'>"
      ]
     },
     "execution_count": 46,
     "metadata": {},
     "output_type": "execute_result"
    },
    {
     "data": {
      "image/png": "[encoded data removed]",
      "text/plain": [
       "<Figure size 640x480 with 1 Axes>"
      ]
     },
     "metadata": {},
     "output_type": "display_data"
    }
   ],
   "source": [
    "sns.histplot(x=\"Age\",data=data,bins=10) # bins means here no of bars"
   ]
  },
  {
   "cell_type": "code",
   "execution_count": 47,
   "id": "df5e4e78-3ea6-4d03-83e7-4a93433258c3",
   "metadata": {},
   "outputs": [],
   "source": [
    "# in the above graph you can clearly observe most of the people who are in titanic mostly between 18 to 40 years"
   ]
  },
  {
   "cell_type": "markdown",
   "id": "972045b0-5733-4aea-8fc5-4b6bff8ba142",
   "metadata": {},
   "source": [
    "###  `distplot` "
   ]
  },
  {
   "cell_type": "code",
   "execution_count": 65,
   "id": "07d9403d-2ae3-41e6-abe0-91af6ea05ce7",
   "metadata": {
    "scrolled": true
   },
   "outputs": [
    {
     "data": {
      "text/plain": [
       "<seaborn.axisgrid.FacetGrid at 0x13e025d6f50>"
      ]
     },
     "execution_count": 65,
     "metadata": {},
     "output_type": "execute_result"
    },
    {
     "data": {
      "image/png": "[encoded data removed]",
      "text/plain": [
       "<Figure size 500x500 with 1 Axes>"
      ]
     },
     "metadata": {},
     "output_type": "display_data"
    }
   ],
   "source": [
    "sns.displot(data[\"Age\"],kde=True,bins=10)"
   ]
  },
  {
   "cell_type": "markdown",
   "id": "27e632b6-ea3e-4685-823e-0d9100be0d45",
   "metadata": {},
   "source": [
    "```bash\n",
    "`What is KDE (Kernel Density Estimation)?`\n",
    "\n",
    "KDE is a way to estimate the probability distribution of a continuous variable.\n",
    "\n",
    "Instead of just showing counts (like a histogram), it shows a smooth curve that represents where data values are concentrated.\n",
    "\n",
    "Think of it as a \"smoothed-out histogram\".\n",
    " ```"
   ]
  },
  {
   "cell_type": "markdown",
   "id": "d71fd4ad-f680-467a-a510-1df57e68440b",
   "metadata": {},
   "source": [
    "### `Boxplot`\n",
    "```bash \n",
    "A boxplot (also called whisker plot) is a statistical graph used to show the distribution of numerical data and identify:\n",
    "\n",
    "Median (middle value)\n",
    "\n",
    "Quartiles (spread of data)\n",
    "\n",
    "Outliers (extreme values)\n",
    "```"
   ]
  },
  {
   "cell_type": "code",
   "execution_count": 62,
   "id": "fc39d6f3-d4f6-42d3-b141-b7397628a40d",
   "metadata": {},
   "outputs": [
    {
     "data": {
      "text/plain": [
       "<Axes: xlabel='Age'>"
      ]
     },
     "execution_count": 62,
     "metadata": {},
     "output_type": "execute_result"
    },
    {
     "data": {
      "image/png": "[encoded data removed]",
      "text/plain": [
       "<Figure size 640x480 with 1 Axes>"
      ]
     },
     "metadata": {},
     "output_type": "display_data"
    }
   ],
   "source": [
    "sns.boxplot(x=\"Age\",data=data)"
   ]
  },
  {
   "cell_type": "code",
   "execution_count": 63,
   "id": "4dde9682-378f-4812-bc93-38041a205dbd",
   "metadata": {},
   "outputs": [],
   "source": [
    "# by using boxplot we can identify the outliers which behaves abnormally"
   ]
  }
 ],
 "metadata": {
  "kernelspec": {
   "display_name": "Python 3 (ipykernel)",
   "language": "python",
   "name": "python3"
  },
  "language_info": {
   "codemirror_mode": {
    "name": "ipython",
    "version": 3
   },
   "file_extension": ".py",
   "mimetype": "text/x-python",
   "name": "python",
   "nbconvert_exporter": "python",
   "pygments_lexer": "ipython3",
   "version": "3.10.10"
  }
 },
 "nbformat": 4,
 "nbformat_minor": 5
}
