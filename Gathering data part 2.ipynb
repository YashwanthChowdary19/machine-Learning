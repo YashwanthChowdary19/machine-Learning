{
 "cells": [
  {
   "cell_type": "markdown",
   "id": "3aedb090-38e4-4191-9706-cc7e55c00683",
   "metadata": {},
   "source": [
    "# Gathering Data through JSON "
   ]
  },
  {
   "cell_type": "markdown",
   "id": "590c8673-2b2e-4b51-864d-6776118840f1",
   "metadata": {},
   "source": [
    "```bash \n",
    "JSON stands for JavaScript Object Notation — it’s a lightweight format for storing and sharing data.\n",
    "\n",
    "Think of it as a text-based box where you can keep data in a structured way that’s easy for both humans to read and computers to process.\n",
    "\n",
    "Key points about JSON:\n",
    "\n",
    "It stores data in key–value pairs (like a dictionary in Python).\n",
    "\n",
    "Keys are always in double quotes.\n",
    "\n",
    "Values can be:\n",
    "\n",
    "    String (\"Hello\")\n",
    "\n",
    "    Number (123)\n",
    "\n",
    "    Boolean (true or false)\n",
    "    \n",
    "    Null (null)\n",
    "\n",
    "    Array ([1, 2, 3])\n",
    "\n",
    "    Object ({\"name\": \"Yashwanth\"})\n",
    "\n",
    "Commonly used for API responses, configuration files, and data transfer between servers and web apps.\n",
    "\n",
    "Language-independent — not just for JavaScript.\n",
    "```"
   ]
  },
  {
   "cell_type": "markdown",
   "id": "c3b0bbd7-0a64-4fe9-8529-0587a601bd94",
   "metadata": {},
   "source": [
    "# import pandas "
   ]
  },
  {
   "cell_type": "code",
   "execution_count": 2,
   "id": "1d17e3d0-2ef7-47e3-bedc-4f6f592049bd",
   "metadata": {},
   "outputs": [],
   "source": [
    "import pandas as pd"
   ]
  },
  {
   "cell_type": "code",
   "execution_count": 15,
   "id": "24f46ef7-2274-4c26-9b4a-ec93e06a2fea",
   "metadata": {},
   "outputs": [],
   "source": [
    "# loading the csv file using file name \n",
    "# note : file name should be in same folder\n",
    "\n",
    "df = pd.read_json(\"test.json\")"
   ]
  },
  {
   "cell_type": "code",
   "execution_count": null,
   "id": "e4aca7de-b508-4480-b346-eb66de60fe8f",
   "metadata": {},
   "outputs": [],
   "source": [
    "# loading data uisng url \n",
    "# syntax \n",
    "df  = pd.read_json(\"url\")"
   ]
  },
  {
   "cell_type": "code",
   "execution_count": 22,
   "id": "9b79bd46-9561-4276-afb7-db8009e8bd70",
   "metadata": {},
   "outputs": [
    {
     "data": {
      "text/html": [
       "<div>\n",
       "<style scoped>\n",
       "    .dataframe tbody tr th:only-of-type {\n",
       "        vertical-align: middle;\n",
       "    }\n",
       "\n",
       "    .dataframe tbody tr th {\n",
       "        vertical-align: top;\n",
       "    }\n",
       "\n",
       "    .dataframe thead th {\n",
       "        text-align: right;\n",
       "    }\n",
       "</style>\n",
       "<table border=\"1\" class=\"dataframe\">\n",
       "  <thead>\n",
       "    <tr style=\"text-align: right;\">\n",
       "      <th></th>\n",
       "      <th>id</th>\n",
       "      <th>ingredients</th>\n",
       "    </tr>\n",
       "  </thead>\n",
       "  <tbody>\n",
       "    <tr>\n",
       "      <th>0</th>\n",
       "      <td>18009</td>\n",
       "      <td>[baking powder, eggs, all-purpose flour, raisi...</td>\n",
       "    </tr>\n",
       "    <tr>\n",
       "      <th>1</th>\n",
       "      <td>28583</td>\n",
       "      <td>[sugar, egg yolks, corn starch, cream of tarta...</td>\n",
       "    </tr>\n",
       "    <tr>\n",
       "      <th>2</th>\n",
       "      <td>41580</td>\n",
       "      <td>[sausage links, fennel bulb, fronds, olive oil...</td>\n",
       "    </tr>\n",
       "    <tr>\n",
       "      <th>3</th>\n",
       "      <td>29752</td>\n",
       "      <td>[meat cuts, file powder, smoked sausage, okra,...</td>\n",
       "    </tr>\n",
       "    <tr>\n",
       "      <th>4</th>\n",
       "      <td>35687</td>\n",
       "      <td>[ground black pepper, salt, sausage casings, l...</td>\n",
       "    </tr>\n",
       "  </tbody>\n",
       "</table>\n",
       "</div>"
      ],
      "text/plain": [
       "      id                                        ingredients\n",
       "0  18009  [baking powder, eggs, all-purpose flour, raisi...\n",
       "1  28583  [sugar, egg yolks, corn starch, cream of tarta...\n",
       "2  41580  [sausage links, fennel bulb, fronds, olive oil...\n",
       "3  29752  [meat cuts, file powder, smoked sausage, okra,...\n",
       "4  35687  [ground black pepper, salt, sausage casings, l..."
      ]
     },
     "execution_count": 22,
     "metadata": {},
     "output_type": "execute_result"
    }
   ],
   "source": [
    "# read_json parameters already discussed in read_csv concepts\n",
    "# 1) dtype\n",
    "df = pd.read_json(\"test.json\",dtype={\"id\":object,\"ingredients\":object}) # here you need to specify column name : datatype\n",
    "df.head()"
   ]
  },
  {
   "cell_type": "markdown",
   "id": "31dcdf30-1c98-42a8-8eea-bcd288723cdf",
   "metadata": {},
   "source": [
    "``` bash \n",
    "1) dtype \n",
    "2) convert_dates\n",
    "3) encoding\n",
    "4) chunksize\n",
    "5) nrows\n",
    "```"
   ]
  },
  {
   "cell_type": "markdown",
   "id": "96178d0f-664f-4b34-a834-0d320e373a5c",
   "metadata": {},
   "source": [
    "# # Gathering Data through SQL "
   ]
  },
  {
   "cell_type": "markdown",
   "id": "696f0634-4c3c-44cb-9fca-6fddf6d5e6af",
   "metadata": {},
   "source": [
    "`step 1` : import the mysql connector "
   ]
  },
  {
   "cell_type": "code",
   "execution_count": 23,
   "id": "604fcfcd-dca8-4794-9431-cdbc5ede0720",
   "metadata": {},
   "outputs": [],
   "source": [
    "# install mysql connector if not, command : pip install mysql-connector \n",
    "import mysql.connector"
   ]
  },
  {
   "cell_type": "markdown",
   "id": "9929537f-aba5-4182-ad76-c3b2877f3b9e",
   "metadata": {},
   "source": [
    "`step 2` : set the following things "
   ]
  },
  {
   "cell_type": "code",
   "execution_count": 27,
   "id": "56f7995c-5171-4608-9dea-1e3999122d87",
   "metadata": {},
   "outputs": [],
   "source": [
    "conn = mysql.connector.Connect(\n",
    "    host = 'localhost',\n",
    "    user = 'root',\n",
    "    password = 'Yash@9346659926', \n",
    "    database = 'world'\n",
    ")"
   ]
  },
  {
   "cell_type": "markdown",
   "id": "6101d9db-e4bc-4a2c-8d58-aceae3999125",
   "metadata": {},
   "source": [
    "`step 3` : use the pd.read_sql_query() "
   ]
  },
  {
   "cell_type": "code",
   "execution_count": 32,
   "id": "ca9a9535-fd4e-4d01-9333-ebd083245ea2",
   "metadata": {},
   "outputs": [
    {
     "name": "stderr",
     "output_type": "stream",
     "text": [
      "C:\\Users\\hp5cd\\AppData\\Local\\Temp\\ipykernel_2612\\2721712860.py:1: UserWarning: pandas only supports SQLAlchemy connectable (engine/connection) or database string URI or sqlite3 DBAPI2 connection. Other DBAPI2 objects are not tested. Please consider using SQLAlchemy.\n",
      "  pd.read_sql_query(\"select * from city where CountryCode='IND' \",con=conn)\n"
     ]
    },
    {
     "data": {
      "text/html": [
       "<div>\n",
       "<style scoped>\n",
       "    .dataframe tbody tr th:only-of-type {\n",
       "        vertical-align: middle;\n",
       "    }\n",
       "\n",
       "    .dataframe tbody tr th {\n",
       "        vertical-align: top;\n",
       "    }\n",
       "\n",
       "    .dataframe thead th {\n",
       "        text-align: right;\n",
       "    }\n",
       "</style>\n",
       "<table border=\"1\" class=\"dataframe\">\n",
       "  <thead>\n",
       "    <tr style=\"text-align: right;\">\n",
       "      <th></th>\n",
       "      <th>ID</th>\n",
       "      <th>Name</th>\n",
       "      <th>CountryCode</th>\n",
       "      <th>District</th>\n",
       "      <th>Population</th>\n",
       "    </tr>\n",
       "  </thead>\n",
       "  <tbody>\n",
       "    <tr>\n",
       "      <th>0</th>\n",
       "      <td>1024</td>\n",
       "      <td>Mumbai (Bombay)</td>\n",
       "      <td>IND</td>\n",
       "      <td>Maharashtra</td>\n",
       "      <td>10500000</td>\n",
       "    </tr>\n",
       "    <tr>\n",
       "      <th>1</th>\n",
       "      <td>1025</td>\n",
       "      <td>Delhi</td>\n",
       "      <td>IND</td>\n",
       "      <td>Delhi</td>\n",
       "      <td>7206704</td>\n",
       "    </tr>\n",
       "    <tr>\n",
       "      <th>2</th>\n",
       "      <td>1026</td>\n",
       "      <td>Calcutta [Kolkata]</td>\n",
       "      <td>IND</td>\n",
       "      <td>West Bengali</td>\n",
       "      <td>4399819</td>\n",
       "    </tr>\n",
       "    <tr>\n",
       "      <th>3</th>\n",
       "      <td>1027</td>\n",
       "      <td>Chennai (Madras)</td>\n",
       "      <td>IND</td>\n",
       "      <td>Tamil Nadu</td>\n",
       "      <td>3841396</td>\n",
       "    </tr>\n",
       "    <tr>\n",
       "      <th>4</th>\n",
       "      <td>1028</td>\n",
       "      <td>Hyderabad</td>\n",
       "      <td>IND</td>\n",
       "      <td>Andhra Pradesh</td>\n",
       "      <td>2964638</td>\n",
       "    </tr>\n",
       "    <tr>\n",
       "      <th>...</th>\n",
       "      <td>...</td>\n",
       "      <td>...</td>\n",
       "      <td>...</td>\n",
       "      <td>...</td>\n",
       "      <td>...</td>\n",
       "    </tr>\n",
       "    <tr>\n",
       "      <th>336</th>\n",
       "      <td>1360</td>\n",
       "      <td>Ambala Sadar</td>\n",
       "      <td>IND</td>\n",
       "      <td>Haryana</td>\n",
       "      <td>90712</td>\n",
       "    </tr>\n",
       "    <tr>\n",
       "      <th>337</th>\n",
       "      <td>1361</td>\n",
       "      <td>Baidyabati</td>\n",
       "      <td>IND</td>\n",
       "      <td>West Bengali</td>\n",
       "      <td>90601</td>\n",
       "    </tr>\n",
       "    <tr>\n",
       "      <th>338</th>\n",
       "      <td>1362</td>\n",
       "      <td>Morvi</td>\n",
       "      <td>IND</td>\n",
       "      <td>Gujarat</td>\n",
       "      <td>90357</td>\n",
       "    </tr>\n",
       "    <tr>\n",
       "      <th>339</th>\n",
       "      <td>1363</td>\n",
       "      <td>Raigarh</td>\n",
       "      <td>IND</td>\n",
       "      <td>Chhatisgarh</td>\n",
       "      <td>89166</td>\n",
       "    </tr>\n",
       "    <tr>\n",
       "      <th>340</th>\n",
       "      <td>1364</td>\n",
       "      <td>Vejalpur</td>\n",
       "      <td>IND</td>\n",
       "      <td>Gujarat</td>\n",
       "      <td>89053</td>\n",
       "    </tr>\n",
       "  </tbody>\n",
       "</table>\n",
       "<p>341 rows × 5 columns</p>\n",
       "</div>"
      ],
      "text/plain": [
       "       ID                Name CountryCode        District  Population\n",
       "0    1024     Mumbai (Bombay)         IND     Maharashtra    10500000\n",
       "1    1025               Delhi         IND           Delhi     7206704\n",
       "2    1026  Calcutta [Kolkata]         IND    West Bengali     4399819\n",
       "3    1027    Chennai (Madras)         IND      Tamil Nadu     3841396\n",
       "4    1028           Hyderabad         IND  Andhra Pradesh     2964638\n",
       "..    ...                 ...         ...             ...         ...\n",
       "336  1360        Ambala Sadar         IND         Haryana       90712\n",
       "337  1361          Baidyabati         IND    West Bengali       90601\n",
       "338  1362               Morvi         IND         Gujarat       90357\n",
       "339  1363             Raigarh         IND     Chhatisgarh       89166\n",
       "340  1364            Vejalpur         IND         Gujarat       89053\n",
       "\n",
       "[341 rows x 5 columns]"
      ]
     },
     "execution_count": 32,
     "metadata": {},
     "output_type": "execute_result"
    }
   ],
   "source": [
    "pd.read_sql_query(\"select * from city where CountryCode='IND' \",con=conn)"
   ]
  },
  {
   "cell_type": "markdown",
   "id": "7d528bc8-85b4-4711-9ad5-2a9d60216ac2",
   "metadata": {},
   "source": [
    "### read_sql_query() parameters \n",
    "```bash \n",
    "dtype\n",
    "index_col\n",
    "chunksize\n",
    "con \n",
    "parse_dates"
   ]
  },
  {
   "cell_type": "code",
   "execution_count": null,
   "id": "41c7706d-fee7-456d-873d-bf92192efeb7",
   "metadata": {},
   "outputs": [],
   "source": [
    "# if you want to more info : https://pandas.pydata.org/docs/reference/index.html"
   ]
  }
 ],
 "metadata": {
  "kernelspec": {
   "display_name": "Python 3 (ipykernel)",
   "language": "python",
   "name": "python3"
  },
  "language_info": {
   "codemirror_mode": {
    "name": "ipython",
    "version": 3
   },
   "file_extension": ".py",
   "mimetype": "text/x-python",
   "name": "python",
   "nbconvert_exporter": "python",
   "pygments_lexer": "ipython3",
   "version": "3.10.10"
  }
 },
 "nbformat": 4,
 "nbformat_minor": 5
}
